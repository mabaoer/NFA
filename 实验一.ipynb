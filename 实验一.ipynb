{
 "cells": [
  {
   "cell_type": "code",
   "execution_count": 1,
   "metadata": {},
   "outputs": [],
   "source": [
    "import numpy as np"
   ]
  },
  {
   "cell_type": "code",
   "execution_count": 2,
   "metadata": {},
   "outputs": [],
   "source": [
    "class NFA():\n",
    "    def __init__(self, Q, sigma, delta, start_state, F):\n",
    "        self.Q = Q\n",
    "        self.sigma = sigma\n",
    "        self.delta = delta\n",
    "        self.start_state = start_state\n",
    "        self.F = F\n",
    "        self.current_state = start_state\n",
    "        self.string = ''\n",
    "        self.current_state_set = [start_state]\n",
    "        self.ans=''\n",
    "        \n",
    "    def input_string(self, string, ans=''):\n",
    "        for current_state in self.current_state_set:\n",
    "            self.current_state = current_state\n",
    "            self.string = string\n",
    "            self.ans = ans\n",
    "\n",
    "            if(len(self.string) == 0):\n",
    "                if(self.current_state in self.F):\n",
    "                    #print('接受！！！！')\n",
    "                    print(self.ans+self.current_state)\n",
    "                    return 1\n",
    "                    continue\n",
    "                else:\n",
    "                    #print('该字符串遍历完成未被接受')\n",
    "                    continue\n",
    "            try:\n",
    "                delta[Q.index(self.current_state)][sigma.index(string[0])]\n",
    "            except Exception:\n",
    "                #print('不存在该字符')\n",
    "                continue\n",
    "            \n",
    "            if(delta[Q.index(self.current_state)][sigma.index(self.string[0])] != ['null']):\n",
    "               # print(self.current_state,self.string[0],self.string,delta[Q.index(self.current_state)][sigma.index(string[0])])\n",
    "                self.current_state_set = delta[Q.index(self.current_state)][sigma.index(self.string[0])]\n",
    "                self.ans += self.current_state + ' '+ self.string[0] + ' '\n",
    "                self.string = self.string[1:]\n",
    "                self.input_string(self.string,self.ans)\n",
    "                self.current_state = current_state\n",
    "                self.string = string\n",
    "                self.ans = ans\n",
    "            \n",
    "            if(delta[Q.index(self.current_state)][sigma.index('null')] !=  ['null']):\n",
    "                #print(self.current_state,'null',self.string,delta[Q.index(self.current_state)][sigma.index('null')])\n",
    "                self.current_state_set = delta[Q.index(self.current_state)][sigma.index('null')]\n",
    "                self.ans += self.current_state +' null '\n",
    "                self.input_string(self.string,self.ans)\n",
    "                self.current_state = current_state\n",
    "                self.string = string\n",
    "                self.ans = ans"
   ]
  },
  {
   "cell_type": "code",
   "execution_count": 16,
   "metadata": {},
   "outputs": [
    {
     "name": "stdout",
     "output_type": "stream",
     "text": [
      "所有可能的状态转移情况\n"
     ]
    }
   ],
   "source": [
    "Q = ['q1', 'q2', 'q3', 'q4']\n",
    "sigma = ['0','1','null']\n",
    "delta = [[['q1'], ['q1','q2'], ['null']],\n",
    " [['q3'], ['null'], ['q3']],\n",
    " [['null'], ['q4'], ['null']],\n",
    " [['q4'], ['q4'], ['null']]]\n",
    "start_state = 'q1'\n",
    "F = ['q4']\n",
    "N1 = NFA(Q,sigma,delta,start_state,F)\n",
    "print('所有可能的状态转移情况')\n",
    "N1.input_string('122')"
   ]
  }
 ],
 "metadata": {
  "kernelspec": {
   "display_name": "Python 3",
   "language": "python",
   "name": "python3"
  },
  "language_info": {
   "codemirror_mode": {
    "name": "ipython",
    "version": 3
   },
   "file_extension": ".py",
   "mimetype": "text/x-python",
   "name": "python",
   "nbconvert_exporter": "python",
   "pygments_lexer": "ipython3",
   "version": "3.6.5"
  }
 },
 "nbformat": 4,
 "nbformat_minor": 2
}
